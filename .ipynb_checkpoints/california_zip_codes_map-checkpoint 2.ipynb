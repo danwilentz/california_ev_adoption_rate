{
 "cells": [
  {
   "cell_type": "code",
   "execution_count": 1,
   "id": "d9e1350d",
   "metadata": {},
   "outputs": [],
   "source": [
    "import geopandas as gpd\n",
    "import geoplot\n",
    "import geoplot.crs as gcrs\n",
    "import pandas as pd"
   ]
  },
  {
   "cell_type": "code",
   "execution_count": 2,
   "id": "57984eee",
   "metadata": {},
   "outputs": [
    {
     "name": "stdout",
     "output_type": "stream",
     "text": [
      "California has 1721 zip codes and 69 counties\n"
     ]
    }
   ],
   "source": [
    "# Read in geojsons for California zip codes and counties\n",
    "\n",
    "zip_codes = gpd.read_file(\"California_Zip_Codes.geojson\")\n",
    "counties = gpd.read_file(\"California_County_Boundaries.geojson\")\n",
    "\n",
    "print(f'California has {len(zip_codes)} zip codes and {len(counties)} counties')"
   ]
  },
  {
   "cell_type": "code",
   "execution_count": 3,
   "id": "30711336",
   "metadata": {},
   "outputs": [
    {
     "data": {
      "text/html": [
       "<div>\n",
       "<style scoped>\n",
       "    .dataframe tbody tr th:only-of-type {\n",
       "        vertical-align: middle;\n",
       "    }\n",
       "\n",
       "    .dataframe tbody tr th {\n",
       "        vertical-align: top;\n",
       "    }\n",
       "\n",
       "    .dataframe thead th {\n",
       "        text-align: right;\n",
       "    }\n",
       "</style>\n",
       "<table border=\"1\" class=\"dataframe\">\n",
       "  <thead>\n",
       "    <tr style=\"text-align: right;\">\n",
       "      <th></th>\n",
       "      <th>OBJECTID</th>\n",
       "      <th>ZIP_CODE</th>\n",
       "      <th>PO_NAME</th>\n",
       "      <th>STATE</th>\n",
       "      <th>POPULATION</th>\n",
       "      <th>POP_SQMI</th>\n",
       "      <th>SQMI</th>\n",
       "      <th>SHAPE_Length</th>\n",
       "      <th>SHAPE_Area</th>\n",
       "      <th>geometry</th>\n",
       "    </tr>\n",
       "  </thead>\n",
       "  <tbody>\n",
       "    <tr>\n",
       "      <th>1387</th>\n",
       "      <td>1388</td>\n",
       "      <td>95503</td>\n",
       "      <td>Eureka</td>\n",
       "      <td>CA</td>\n",
       "      <td>24479</td>\n",
       "      <td>221.37</td>\n",
       "      <td>110.58</td>\n",
       "      <td>1.343002</td>\n",
       "      <td>0.03052</td>\n",
       "      <td>MULTIPOLYGON (((-124.04885 40.80275, -124.0611...</td>\n",
       "    </tr>\n",
       "  </tbody>\n",
       "</table>\n",
       "</div>"
      ],
      "text/plain": [
       "      OBJECTID ZIP_CODE PO_NAME STATE  POPULATION  POP_SQMI    SQMI  \\\n",
       "1387      1388    95503  Eureka    CA       24479    221.37  110.58   \n",
       "\n",
       "      SHAPE_Length  SHAPE_Area  \\\n",
       "1387      1.343002     0.03052   \n",
       "\n",
       "                                               geometry  \n",
       "1387  MULTIPOLYGON (((-124.04885 40.80275, -124.0611...  "
      ]
     },
     "execution_count": 3,
     "metadata": {},
     "output_type": "execute_result"
    }
   ],
   "source": [
    "zip_codes.sample(1)"
   ]
  },
  {
   "cell_type": "code",
   "execution_count": 4,
   "id": "7e76e5e7",
   "metadata": {},
   "outputs": [
    {
     "data": {
      "text/html": [
       "<div>\n",
       "<style scoped>\n",
       "    .dataframe tbody tr th:only-of-type {\n",
       "        vertical-align: middle;\n",
       "    }\n",
       "\n",
       "    .dataframe tbody tr th {\n",
       "        vertical-align: top;\n",
       "    }\n",
       "\n",
       "    .dataframe thead th {\n",
       "        text-align: right;\n",
       "    }\n",
       "</style>\n",
       "<table border=\"1\" class=\"dataframe\">\n",
       "  <thead>\n",
       "    <tr style=\"text-align: right;\">\n",
       "      <th></th>\n",
       "      <th>OBJECTID</th>\n",
       "      <th>COUNTY_NAME</th>\n",
       "      <th>COUNTY_ABBREV</th>\n",
       "      <th>COUNTY_NUM</th>\n",
       "      <th>COUNTY_CODE</th>\n",
       "      <th>COUNTY_FIPS</th>\n",
       "      <th>ISLAND</th>\n",
       "      <th>GlobalID</th>\n",
       "      <th>SHAPE_Length</th>\n",
       "      <th>SHAPE_Area</th>\n",
       "      <th>geometry</th>\n",
       "    </tr>\n",
       "  </thead>\n",
       "  <tbody>\n",
       "    <tr>\n",
       "      <th>52</th>\n",
       "      <td>53</td>\n",
       "      <td>Trinity</td>\n",
       "      <td>TRI</td>\n",
       "      <td>53</td>\n",
       "      <td>53</td>\n",
       "      <td>105</td>\n",
       "      <td>NaN</td>\n",
       "      <td>{2CDCC639-3309-4168-9D1F-F9C64504994D}</td>\n",
       "      <td>6.289429</td>\n",
       "      <td>0.884508</td>\n",
       "      <td>MULTIPOLYGON (((-122.56594 41.36550, -122.5657...</td>\n",
       "    </tr>\n",
       "  </tbody>\n",
       "</table>\n",
       "</div>"
      ],
      "text/plain": [
       "    OBJECTID COUNTY_NAME COUNTY_ABBREV  COUNTY_NUM COUNTY_CODE COUNTY_FIPS  \\\n",
       "52        53     Trinity           TRI          53          53         105   \n",
       "\n",
       "   ISLAND                                GlobalID  SHAPE_Length  SHAPE_Area  \\\n",
       "52    NaN  {2CDCC639-3309-4168-9D1F-F9C64504994D}      6.289429    0.884508   \n",
       "\n",
       "                                             geometry  \n",
       "52  MULTIPOLYGON (((-122.56594 41.36550, -122.5657...  "
      ]
     },
     "execution_count": 4,
     "metadata": {},
     "output_type": "execute_result"
    }
   ],
   "source": [
    "counties.sample(1)"
   ]
  },
  {
   "cell_type": "code",
   "execution_count": 5,
   "id": "24e945b4",
   "metadata": {},
   "outputs": [],
   "source": [
    "# Drop unecessary columns\n",
    "zip_codes.drop(columns = ['OBJECTID', 'STATE', 'SHAPE_Length', 'SHAPE_Area'], inplace = True)\n",
    "counties.drop(columns = ['OBJECTID', 'COUNTY_NUM', 'COUNTY_CODE'], inplace = True)\n",
    "\n",
    "# Lowercase columns \n",
    "zip_codes.columns= zip_codes.columns.str.lower()\n",
    "counties.columns = counties.columns.str.lower()\n",
    "\n",
    "# rename zip_code geom column\n",
    "zip_codes.rename_geometry('zip_code_geometry', inplace=True)\n",
    "\n",
    "# create duplicate county geometry column, because original county geometry column will be lost during the join\n",
    "counties['county_geometry'] = counties.geometry"
   ]
  },
  {
   "cell_type": "code",
   "execution_count": 6,
   "id": "ccd90844",
   "metadata": {},
   "outputs": [
    {
     "name": "stdout",
     "output_type": "stream",
     "text": [
      "Index(['zip_code', 'po_name', 'population', 'pop_sqmi', 'sqmi',\n",
      "       'zip_code_geometry'],\n",
      "      dtype='object')\n",
      "Index(['county_name', 'county_abbrev', 'county_fips', 'island', 'globalid',\n",
      "       'shape_length', 'shape_area', 'geometry', 'county_geometry'],\n",
      "      dtype='object')\n"
     ]
    }
   ],
   "source": [
    "print(zip_codes.columns)\n",
    "print(counties.columns)"
   ]
  },
  {
   "cell_type": "code",
   "execution_count": 7,
   "id": "c5900677",
   "metadata": {},
   "outputs": [],
   "source": [
    "# Reset CRS from 4326 to 3857\n",
    "# This effectively sets our coordinate system from a globe to a map, which is necessary before we compute centroids\n",
    "\n",
    "zip_codes.to_crs(3857, inplace = True)\n",
    "counties.to_crs(3857, inplace = True)"
   ]
  },
  {
   "cell_type": "code",
   "execution_count": null,
   "id": "af0b686a",
   "metadata": {},
   "outputs": [],
   "source": [
    "# Calculate zip code centroids - each centroid will be mapped to a county\n",
    "zip_codes['zip_code_centroid'] = zip_codes.centroid"
   ]
  },
  {
   "cell_type": "code",
   "execution_count": null,
   "id": "1bcb83ff",
   "metadata": {},
   "outputs": [],
   "source": [
    "# Set the zip code active geometry to the centroid column\n",
    "# Then join counties onto zip codes by using zip code centroids intersecting with county polygons\n",
    "zip_codes.set_geometry('zip_code_centroid', inplace=True)\n",
    "zip_codes_with_county=gpd.sjoin(zip_codes, counties, how='inner',predicate='intersects')"
   ]
  },
  {
   "cell_type": "code",
   "execution_count": null,
   "id": "0bc5f314",
   "metadata": {},
   "outputs": [],
   "source": [
    "len(zip_codes_with_county)"
   ]
  },
  {
   "cell_type": "markdown",
   "id": "c1b98991",
   "metadata": {},
   "source": [
    "Our join lost us 4 zip codes out of 1721. We'll consider that fine"
   ]
  },
  {
   "cell_type": "code",
   "execution_count": null,
   "id": "56be5345",
   "metadata": {},
   "outputs": [],
   "source": [
    "zip_codes_with_county"
   ]
  },
  {
   "cell_type": "markdown",
   "id": "b103dc48",
   "metadata": {},
   "source": [
    "### Analytics"
   ]
  },
  {
   "cell_type": "code",
   "execution_count": null,
   "id": "245d9bdf",
   "metadata": {},
   "outputs": [],
   "source": [
    "# Plot zip codes\n",
    "zip_codes_with_county.set_geometry('county_geometry', inplace = True)\n",
    "geoplot.polyplot(zip_codes_with_county, projection=gcrs.AlbersEqualArea(), \n",
    "                 edgecolor='darkgrey', \n",
    "                 facecolor='lightblue', \n",
    "                 linewidth=.3,\n",
    "                 figsize=(12, 8))"
   ]
  },
  {
   "cell_type": "code",
   "execution_count": null,
   "id": "6049f6e7",
   "metadata": {},
   "outputs": [],
   "source": [
    "num_zip_codes_per_county = zip_codes_with_county.groupby('county_name')['zip_code'].nunique()\n",
    "num_zip_codes_per_county.sort_values(ascending = False)"
   ]
  },
  {
   "cell_type": "code",
   "execution_count": null,
   "id": "d68092f9",
   "metadata": {},
   "outputs": [],
   "source": []
  }
 ],
 "metadata": {
  "kernelspec": {
   "display_name": "Python 3 (ipykernel)",
   "language": "python",
   "name": "python3"
  },
  "language_info": {
   "codemirror_mode": {
    "name": "ipython",
    "version": 3
   },
   "file_extension": ".py",
   "mimetype": "text/x-python",
   "name": "python",
   "nbconvert_exporter": "python",
   "pygments_lexer": "ipython3",
   "version": "3.8.16"
  }
 },
 "nbformat": 4,
 "nbformat_minor": 5
}
