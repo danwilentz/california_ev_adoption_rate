{
 "cells": [
  {
   "cell_type": "code",
   "execution_count": 1,
   "id": "b3e95d18",
   "metadata": {},
   "outputs": [],
   "source": [
    "import geopandas as gpd\n",
    "import geoplot\n",
    "import geoplot.crs as gcrs\n",
    "import pandas as pd\n",
    "import sys\n",
    "sys.path.append('../utils')\n",
    "from helper_functions import combine_zip_codes_and_counties, ev_adoption_rate"
   ]
  },
  {
   "cell_type": "code",
   "execution_count": null,
   "id": "33b5de0c",
   "metadata": {},
   "outputs": [],
   "source": [
    "zip_code_path = \"../geojsons/California_Zip_Codes.geojson\"\n",
    "counties_path = \"../geojsons/California_County_Boundaries.geojson\"\n",
    "gdf = combine_zip_codes_and_counties(zip_code_path, counties_path)"
   ]
  },
  {
   "cell_type": "code",
   "execution_count": 2,
   "id": "34319e9a",
   "metadata": {},
   "outputs": [
    {
     "name": "stdout",
     "output_type": "stream",
     "text": [
      "['2017', '2018', '2019']\n",
      "4071718\n",
      "2018-10-01 2018-10-01\n"
     ]
    }
   ],
   "source": [
    "summary_2018 = ev_adoption_rate('../vehicle_data/vehicle-fuel-type-count-by-zip-code.csv', 2018)"
   ]
  },
  {
   "cell_type": "code",
   "execution_count": 4,
   "id": "8b9610f0",
   "metadata": {},
   "outputs": [
    {
     "name": "stdout",
     "output_type": "stream",
     "text": [
      "['2020', '2019', '2018']\n",
      "4268416\n",
      "2020-01-01 2020-01-01\n"
     ]
    }
   ],
   "source": [
    "summary_2020 = ev_adoption_rate('../vehicle_data/vehicle-count-as-of-1-1-2020.csv', 2020)"
   ]
  },
  {
   "cell_type": "code",
   "execution_count": 5,
   "id": "0c1d8e9e",
   "metadata": {},
   "outputs": [
    {
     "name": "stdout",
     "output_type": "stream",
     "text": [
      "['2021', '2020', '2019']\n",
      "3653752\n",
      "2021-01-01 2021-01-01\n"
     ]
    }
   ],
   "source": [
    "summary_2021 = ev_adoption_rate('../vehicle_data/vehicle-fuel-type-count-by-zip-code-2021.csv', 2021)"
   ]
  },
  {
   "cell_type": "code",
   "execution_count": 6,
   "id": "5d37f8cd",
   "metadata": {},
   "outputs": [
    {
     "name": "stdout",
     "output_type": "stream",
     "text": [
      "['2022', '2021', '2020']\n",
      "3585538\n",
      "2022-01-01 2022-01-01\n"
     ]
    }
   ],
   "source": [
    "summary_2022 = ev_adoption_rate('../vehicle_data/vehicle-fuel-type-count-by-zip-code-2022.csv', 2022)"
   ]
  },
  {
   "cell_type": "code",
   "execution_count": 3,
   "id": "6cc37f61",
   "metadata": {},
   "outputs": [
    {
     "data": {
      "text/html": [
       "<div>\n",
       "<style scoped>\n",
       "    .dataframe tbody tr th:only-of-type {\n",
       "        vertical-align: middle;\n",
       "    }\n",
       "\n",
       "    .dataframe tbody tr th {\n",
       "        vertical-align: top;\n",
       "    }\n",
       "\n",
       "    .dataframe thead th {\n",
       "        text-align: right;\n",
       "    }\n",
       "</style>\n",
       "<table border=\"1\" class=\"dataframe\">\n",
       "  <thead>\n",
       "    <tr style=\"text-align: right;\">\n",
       "      <th></th>\n",
       "      <th>Fuel</th>\n",
       "      <th>Pct New Vehicles Registered</th>\n",
       "      <th>Date</th>\n",
       "    </tr>\n",
       "  </thead>\n",
       "  <tbody>\n",
       "    <tr>\n",
       "      <th>0</th>\n",
       "      <td>Fuel</td>\n",
       "      <td>90.869333</td>\n",
       "      <td>2018-10-01</td>\n",
       "    </tr>\n",
       "    <tr>\n",
       "      <th>1</th>\n",
       "      <td>Hybrid</td>\n",
       "      <td>6.407664</td>\n",
       "      <td>2018-10-01</td>\n",
       "    </tr>\n",
       "    <tr>\n",
       "      <th>2</th>\n",
       "      <td>ZEV</td>\n",
       "      <td>2.723003</td>\n",
       "      <td>2018-10-01</td>\n",
       "    </tr>\n",
       "  </tbody>\n",
       "</table>\n",
       "</div>"
      ],
      "text/plain": [
       "     Fuel  Pct New Vehicles Registered       Date\n",
       "0    Fuel                    90.869333 2018-10-01\n",
       "1  Hybrid                     6.407664 2018-10-01\n",
       "2     ZEV                     2.723003 2018-10-01"
      ]
     },
     "execution_count": 3,
     "metadata": {},
     "output_type": "execute_result"
    }
   ],
   "source": [
    "summary_2018"
   ]
  },
  {
   "cell_type": "code",
   "execution_count": 8,
   "id": "06e7afe2",
   "metadata": {},
   "outputs": [],
   "source": [
    "df_final = pd.concat([summary_2018, summary_2020, summary_2021, summary_2022])"
   ]
  },
  {
   "cell_type": "code",
   "execution_count": 9,
   "id": "d06131d2",
   "metadata": {},
   "outputs": [
    {
     "data": {
      "text/html": [
       "<div>\n",
       "<style scoped>\n",
       "    .dataframe tbody tr th:only-of-type {\n",
       "        vertical-align: middle;\n",
       "    }\n",
       "\n",
       "    .dataframe tbody tr th {\n",
       "        vertical-align: top;\n",
       "    }\n",
       "\n",
       "    .dataframe thead th {\n",
       "        text-align: right;\n",
       "    }\n",
       "</style>\n",
       "<table border=\"1\" class=\"dataframe\">\n",
       "  <thead>\n",
       "    <tr style=\"text-align: right;\">\n",
       "      <th></th>\n",
       "      <th>Fuel</th>\n",
       "      <th>Pct New Vehicles Registered</th>\n",
       "      <th>Date</th>\n",
       "    </tr>\n",
       "  </thead>\n",
       "  <tbody>\n",
       "    <tr>\n",
       "      <th>0</th>\n",
       "      <td>Fuel</td>\n",
       "      <td>90.869333</td>\n",
       "      <td>2018-10-01</td>\n",
       "    </tr>\n",
       "    <tr>\n",
       "      <th>1</th>\n",
       "      <td>Hybrid</td>\n",
       "      <td>6.407664</td>\n",
       "      <td>2018-10-01</td>\n",
       "    </tr>\n",
       "    <tr>\n",
       "      <th>2</th>\n",
       "      <td>ZEV</td>\n",
       "      <td>2.723003</td>\n",
       "      <td>2018-10-01</td>\n",
       "    </tr>\n",
       "    <tr>\n",
       "      <th>0</th>\n",
       "      <td>Fuel</td>\n",
       "      <td>89.495565</td>\n",
       "      <td>2020-01-01</td>\n",
       "    </tr>\n",
       "    <tr>\n",
       "      <th>1</th>\n",
       "      <td>Hybrid</td>\n",
       "      <td>6.309319</td>\n",
       "      <td>2020-01-01</td>\n",
       "    </tr>\n",
       "    <tr>\n",
       "      <th>2</th>\n",
       "      <td>ZEV</td>\n",
       "      <td>4.195116</td>\n",
       "      <td>2020-01-01</td>\n",
       "    </tr>\n",
       "    <tr>\n",
       "      <th>0</th>\n",
       "      <td>Fuel</td>\n",
       "      <td>87.891543</td>\n",
       "      <td>2021-01-01</td>\n",
       "    </tr>\n",
       "    <tr>\n",
       "      <th>1</th>\n",
       "      <td>Hybrid</td>\n",
       "      <td>7.411067</td>\n",
       "      <td>2021-01-01</td>\n",
       "    </tr>\n",
       "    <tr>\n",
       "      <th>2</th>\n",
       "      <td>ZEV</td>\n",
       "      <td>4.697391</td>\n",
       "      <td>2021-01-01</td>\n",
       "    </tr>\n",
       "    <tr>\n",
       "      <th>0</th>\n",
       "      <td>Fuel</td>\n",
       "      <td>82.997531</td>\n",
       "      <td>2022-01-01</td>\n",
       "    </tr>\n",
       "    <tr>\n",
       "      <th>1</th>\n",
       "      <td>Hybrid</td>\n",
       "      <td>9.738009</td>\n",
       "      <td>2022-01-01</td>\n",
       "    </tr>\n",
       "    <tr>\n",
       "      <th>2</th>\n",
       "      <td>ZEV</td>\n",
       "      <td>7.264461</td>\n",
       "      <td>2022-01-01</td>\n",
       "    </tr>\n",
       "  </tbody>\n",
       "</table>\n",
       "</div>"
      ],
      "text/plain": [
       "     Fuel  Pct New Vehicles Registered       Date\n",
       "0    Fuel                    90.869333 2018-10-01\n",
       "1  Hybrid                     6.407664 2018-10-01\n",
       "2     ZEV                     2.723003 2018-10-01\n",
       "0    Fuel                    89.495565 2020-01-01\n",
       "1  Hybrid                     6.309319 2020-01-01\n",
       "2     ZEV                     4.195116 2020-01-01\n",
       "0    Fuel                    87.891543 2021-01-01\n",
       "1  Hybrid                     7.411067 2021-01-01\n",
       "2     ZEV                     4.697391 2021-01-01\n",
       "0    Fuel                    82.997531 2022-01-01\n",
       "1  Hybrid                     9.738009 2022-01-01\n",
       "2     ZEV                     7.264461 2022-01-01"
      ]
     },
     "execution_count": 9,
     "metadata": {},
     "output_type": "execute_result"
    }
   ],
   "source": [
    "df_final"
   ]
  },
  {
   "cell_type": "code",
   "execution_count": 11,
   "id": "c9625c1e",
   "metadata": {},
   "outputs": [],
   "source": [
    "evs_only = df_final[df_final['Fuel'] != 'Fuel']\n",
    "evs_overall = evs_only.groupby('Date')['Pct New Vehicles Registered'].sum()"
   ]
  },
  {
   "cell_type": "code",
   "execution_count": 13,
   "id": "b96cb3df",
   "metadata": {},
   "outputs": [
    {
     "data": {
      "text/plain": [
       "<Axes: xlabel='Date'>"
      ]
     },
     "execution_count": 13,
     "metadata": {},
     "output_type": "execute_result"
    },
    {
     "data": {
      "image/png": "[encoded data removed]",
      "text/plain": [
       "<Figure size 640x480 with 1 Axes>"
      ]
     },
     "metadata": {},
     "output_type": "display_data"
    }
   ],
   "source": [
    "evs_overall.plot.line()"
   ]
  },
  {
   "cell_type": "code",
   "execution_count": null,
   "id": "8acbae7b",
   "metadata": {},
   "outputs": [],
   "source": []
  }
 ],
 "metadata": {
  "kernelspec": {
   "display_name": "Python 3 (ipykernel)",
   "language": "python",
   "name": "python3"
  },
  "language_info": {
   "codemirror_mode": {
    "name": "ipython",
    "version": 3
   },
   "file_extension": ".py",
   "mimetype": "text/x-python",
   "name": "python",
   "nbconvert_exporter": "python",
   "pygments_lexer": "ipython3",
   "version": "3.8.16"
  }
 },
 "nbformat": 4,
 "nbformat_minor": 5
}
